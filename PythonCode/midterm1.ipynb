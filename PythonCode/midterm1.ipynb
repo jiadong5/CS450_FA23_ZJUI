{
 "cells": [
  {
   "cell_type": "code",
   "execution_count": 1,
   "metadata": {},
   "outputs": [],
   "source": [
    "import numpy as np"
   ]
  },
  {
   "cell_type": "code",
   "execution_count": 2,
   "metadata": {},
   "outputs": [
    {
     "name": "stdout",
     "output_type": "stream",
     "text": [
      "[[1. 0.]\n",
      " [2. 1.]]\n",
      "[[ 3.  5.]\n",
      " [ 0. -3.]]\n",
      "[[3. 5.]\n",
      " [6. 7.]]\n",
      "L:\n",
      "[[  1.   0.]\n",
      " [177.   1.]]\n",
      "U:\n",
      "[[ 3.00000e-02  5.89000e+01]\n",
      " [ 0.00000e+00 -1.04314e+04]]\n"
     ]
    }
   ],
   "source": [
    "# LU_decomposition\n",
    "A = np.array([[3.,5.],[6.,7.]])\n",
    "\n",
    "def LU_decomposition(A):\n",
    "    U = A\n",
    "    L = np.eye(A.shape[1])\n",
    "    for i in range(A.shape[1]):\n",
    "        tmp = np.eye(A.shape[0])\n",
    "        tmp1 = np.eye(A.shape[0])\n",
    "        for j in range(i+1, A.shape[0]):\n",
    "            tmp[j][i] =0 -U[j][i]/U[i][i]\n",
    "            tmp1[j][i] = U[j][i]/U[i][i]\n",
    "            L[j][i] = U[j][i]/U[i][i]\n",
    "        U = tmp@U\n",
    "        # print(\"M_\"+str(i))\n",
    "        # print(tmp)\n",
    "        # print(\"M^-1_\"+str(i))\n",
    "        # print(tmp1)\n",
    "    return L, U\n",
    "\n",
    "L, U = LU_decomposition(A)\n",
    "\n",
    "print(L)\n",
    "print(U)\n",
    "print(L@U)\n",
    "\n",
    "import numpy as np\n",
    "\n",
    "def LU_decomposition_chop(A, precision=3):\n",
    "    U = A.copy()\n",
    "    L = np.eye(A.shape[0])\n",
    "\n",
    "    for i in range(A.shape[0]):\n",
    "        tmp = np.eye(A.shape[0])\n",
    "\n",
    "        for j in range(i + 1, A.shape[0]):\n",
    "            factor = round(U[j][i] / U[i][i], precision)\n",
    "            tmp[j][i] = -factor\n",
    "            L[j][i] = factor\n",
    "\n",
    "        U = tmp @ U\n",
    "\n",
    "    # Apply chopping to U\n",
    "    # U = np.round(U, decimals=precision)\n",
    "\n",
    "    return L, U\n",
    "\n",
    "# Example usage\n",
    "A = np.array([[0.03, 58.9], [5.31, -6.10]])\n",
    "\n",
    "L, U = LU_decomposition_chop(A, precision=3)\n",
    "\n",
    "print(\"L:\")\n",
    "print(L)\n",
    "print(\"U:\")\n",
    "print(U)"
   ]
  },
  {
   "cell_type": "code",
   "execution_count": 6,
   "metadata": {},
   "outputs": [],
   "source": [
    "# back substitution\n",
    "def BS_solving(Tri_A, b):\n",
    "    ans = np.zeros(len(b))\n",
    "    for i in range(len(b)):\n",
    "        index = len(b)-1-i\n",
    "        if i == 0:\n",
    "            ans[index] = b[index]/Tri_A[index][index]\n",
    "        else:\n",
    "            partial_sum = 0\n",
    "            for j in range(index, len(b)):\n",
    "                partial_sum += Tri_A[index][j] * ans[j]\n",
    "            ans[index] = (b[index]-partial_sum)/Tri_A[index][index]\n",
    "    return ans"
   ]
  },
  {
   "cell_type": "code",
   "execution_count": 14,
   "metadata": {},
   "outputs": [
    {
     "name": "stdout",
     "output_type": "stream",
     "text": [
      "[nan nan nan]\n"
     ]
    },
    {
     "name": "stderr",
     "output_type": "stream",
     "text": [
      "C:\\Users\\Jiadong Hong\\AppData\\Local\\Temp\\ipykernel_28932\\1021947919.py:11: RuntimeWarning: divide by zero encountered in double_scalars\n",
      "  tmp[j][i] = -U[j][i]/U[i][i]\n",
      "C:\\Users\\Jiadong Hong\\AppData\\Local\\Temp\\ipykernel_28932\\1021947919.py:12: RuntimeWarning: divide by zero encountered in double_scalars\n",
      "  tmp1[j][i] = U[j][i]/U[i][i]\n",
      "C:\\Users\\Jiadong Hong\\AppData\\Local\\Temp\\ipykernel_28932\\1021947919.py:13: RuntimeWarning: divide by zero encountered in double_scalars\n",
      "  L[j][i] = U[j][i]/U[i][i]\n",
      "C:\\Users\\Jiadong Hong\\AppData\\Local\\Temp\\ipykernel_28932\\1021947919.py:14: RuntimeWarning: invalid value encountered in matmul\n",
      "  U = tmp@U\n"
     ]
    }
   ],
   "source": [
    "# one general solving kernel.\n",
    "# np.set_printoptions(precision=2, suppress=True, formatter={'float': '{:0.3e}'.format})\n",
    "def General_Solving(A,b):\n",
    "    # L, U = LU_decomposition(A)\n",
    "    L, U = LU_decomposition_chop(A)\n",
    "    print(L)\n",
    "    print(U)\n",
    "    L_inv = np.linalg.inv(L)\n",
    "    b_new = L_inv@b.T\n",
    "    b_sol = b_new.T\n",
    "    return BS_solving(U, b_sol)\n",
    "\n",
    "\n",
    "A = np.array([[3.03,-12.1,14], [-3.03, 12.1, -7], [6.11,-14.2,21]])\n",
    "b = np.array([-119,120,-139])\n",
    "L,U = LU_decomposition(A)\n",
    "\n",
    "print(np.linalg.inv(L)@b)\n",
    "\n",
    "# x = np.linalg.solve(A, b)\n"
   ]
  },
  {
   "cell_type": "code",
   "execution_count": 20,
   "metadata": {},
   "outputs": [
    {
     "name": "stdout",
     "output_type": "stream",
     "text": [
      "[[  1.     -2.324   3.437 -22.75 ]\n",
      " [  0.      1.      0.675  10.096]\n",
      " [  0.      0.      1.      0.143]]\n"
     ]
    },
    {
     "data": {
      "text/plain": [
       "array([-2.711100e-03,  9.999475e+00,  1.430000e-01])"
      ]
     },
     "execution_count": 20,
     "metadata": {},
     "output_type": "execute_result"
    }
   ],
   "source": [
    "def gaussian_elimination(A, b):\n",
    "    # 合并增广矩阵\n",
    "    augmented_matrix = np.column_stack((A, b))\n",
    "\n",
    "    # 行数和列数\n",
    "    rows, cols = augmented_matrix.shape\n",
    "\n",
    "    for i in range(rows):\n",
    "        # 首先进行列主元素的选取\n",
    "        max_row = np.argmax(np.abs(augmented_matrix[i:, i])) + i\n",
    "        augmented_matrix[[i, max_row]] = augmented_matrix[[max_row, i]]\n",
    "\n",
    "        # 将当前列的主元素缩放为1\n",
    "        augmented_matrix[i] /= augmented_matrix[i, i]\n",
    "\n",
    "        # 将其他行的当前列清零\n",
    "        for j in range(i + 1, rows):\n",
    "            augmented_matrix[j] -= augmented_matrix[j, i] * augmented_matrix[i]\n",
    "\n",
    "    augmented_matrix = np.round(augmented_matrix,decimals=3)\n",
    "    print(augmented_matrix)\n",
    "\n",
    "    # 回代求解\n",
    "    x = np.zeros(rows)\n",
    "    for i in range(rows - 1, -1, -1):\n",
    "        x[i] = augmented_matrix[i, -1] - np.dot(augmented_matrix[i, i+1:cols-1], x[i+1:])\n",
    "\n",
    "    return x\n",
    "\n",
    "A = np.array([[3.03,-12.1,14], [-3.03, 12.1, -7], [6.11,-14.2,21]])\n",
    "b = np.array([-119,120,-139])\n",
    "gaussian_elimination(A,b)"
   ]
  },
  {
   "cell_type": "code",
   "execution_count": 153,
   "metadata": {},
   "outputs": [
    {
     "name": "stdout",
     "output_type": "stream",
     "text": [
      "[[1]\n",
      " [0]\n",
      " [0]]\n",
      "[[1. 0. 0.]\n",
      " [0. 1. 0.]\n",
      " [0. 0. 1.]]\n",
      "[[ 0.16903085  0.50709255  0.84515425]\n",
      " [ 0.50709255  0.69055066 -0.5157489 ]\n",
      " [ 0.84515425 -0.5157489   0.14041849]]\n"
     ]
    },
    {
     "data": {
      "text/plain": [
       "array([[5.91607978e+00],\n",
       "       [0.00000000e+00],\n",
       "       [1.11022302e-16]])"
      ]
     },
     "execution_count": 153,
     "metadata": {},
     "output_type": "execute_result"
    }
   ],
   "source": [
    "# Linear_Least_Square\n",
    "# house holder transformation & QR factorization.\n",
    "# H = np.eye(2) - 2*(A[:,[0]]@A[:,[0]].T)/(A[:,[0]].T@A[:,[0]])\n",
    "def householder(a):\n",
    "    e = np.zeros_like(a)\n",
    "    e[0] = 1\n",
    "    print(e)\n",
    "    tmp = a - np.linalg.norm(a)*e\n",
    "    x = tmp/np.linalg.norm(tmp)\n",
    "    # print(np.linalg.norm(x))\n",
    "    print(np.eye(a.shape[0]))\n",
    "    H = np.eye(a.shape[0]) - 2*np.outer(x,x)\n",
    "    print(H)\n",
    "    output = H@a\n",
    "    return output\n",
    "\n",
    "a = np.array([[1],[3],[5]])\n",
    "householder(a)\n",
    "\n"
   ]
  },
  {
   "cell_type": "code",
   "execution_count": 214,
   "metadata": {},
   "outputs": [
    {
     "name": "stdout",
     "output_type": "stream",
     "text": [
      "[[ 0.5  0.5  0.5  0.5]\n",
      " [ 0.5  0.5 -0.5 -0.5]\n",
      " [ 0.5 -0.5  0.5 -0.5]\n",
      " [ 0.5 -0.5 -0.5  0.5]]\n",
      "[[  2.   5.  15.]\n",
      " [  0.  -2. -10.]\n",
      " [  0.  -1.  -5.]\n",
      " [  0.   0.   2.]]\n",
      "[[ 1.          0.          0.          0.        ]\n",
      " [ 0.          0.89442719  0.4472136   0.        ]\n",
      " [ 0.          0.4472136  -0.89442719  0.        ]\n",
      " [ 0.          0.          0.          1.        ]]\n",
      "[[ 2.00000000e+00  5.00000000e+00  1.50000000e+01]\n",
      " [ 0.00000000e+00 -2.23606798e+00 -1.11803399e+01]\n",
      " [ 0.00000000e+00 -3.33066907e-16 -1.77635684e-15]\n",
      " [ 0.00000000e+00  0.00000000e+00  2.00000000e+00]]\n",
      "[[ 1.0000000e+00  0.0000000e+00  0.0000000e+00  0.0000000e+00]\n",
      " [ 0.0000000e+00  1.0000000e+00  0.0000000e+00  0.0000000e+00]\n",
      " [ 0.0000000e+00  0.0000000e+00  8.8817842e-16 -1.0000000e+00]\n",
      " [ 0.0000000e+00  0.0000000e+00 -1.0000000e+00 -8.8817842e-16]]\n",
      "[[ 2.00000000e+00  5.00000000e+00  1.50000000e+01]\n",
      " [ 0.00000000e+00 -2.23606798e+00 -1.11803399e+01]\n",
      " [ 0.00000000e+00 -2.95822839e-31 -2.00000000e+00]\n",
      " [ 0.00000000e+00  3.33066907e-16  0.00000000e+00]]\n",
      "[[ 0.5         0.67082039 -0.5         0.2236068 ]\n",
      " [ 0.5         0.2236068   0.5        -0.67082039]\n",
      " [ 0.5        -0.2236068   0.5         0.67082039]\n",
      " [ 0.5        -0.67082039 -0.5        -0.2236068 ]]\n",
      "[[  2.           5.          15.        ]\n",
      " [  0.          -2.23606798 -11.18033989]\n",
      " [  0.           0.          -2.        ]\n",
      " [  0.           0.           0.        ]]\n"
     ]
    },
    {
     "data": {
      "text/plain": [
       "array([[ 1.,  1.,  1.],\n",
       "       [ 1.,  2.,  4.],\n",
       "       [ 1.,  3.,  9.],\n",
       "       [ 1.,  4., 16.]])"
      ]
     },
     "execution_count": 214,
     "metadata": {},
     "output_type": "execute_result"
    }
   ],
   "source": [
    "import numpy as np\n",
    "\n",
    "def qr_householder(A):\n",
    "    m, n = A.shape\n",
    "    Q = np.eye(m)\n",
    "    for i in range(n - (m == n)):\n",
    "        x = A[i:, i]\n",
    "        e = np.zeros_like(x)\n",
    "        e[0] = np.copysign(np.linalg.norm(x), x[0])\n",
    "        v = x - e\n",
    "        H = np.eye(m)\n",
    "        H[i:, i:] -= 2 * np.outer(v, v) / np.dot(v,v)\n",
    "        print(H)\n",
    "        A = np.dot(H, A)\n",
    "        print(A)\n",
    "        Q = np.dot(Q, H)\n",
    "    R = np.triu(A)\n",
    "    return Q, R\n",
    "\n",
    "A = np.array([[1, 1, 1], [1, 2, 4], [1,3,9],[1,4,16]])\n",
    "Q, R = qr_householder(A)\n",
    "print(Q)\n",
    "print(R)\n",
    "Q@R"
   ]
  },
  {
   "cell_type": "code",
   "execution_count": 189,
   "metadata": {},
   "outputs": [
    {
     "name": "stdout",
     "output_type": "stream",
     "text": [
      "[ 198.   -123.25]\n",
      "121.24974226776737\n"
     ]
    }
   ],
   "source": [
    "X = np.array([[1, 2], [3, 4], [5, 6]])\n",
    "y = np.array([1, 2, 300])\n",
    "# normal equation.\n",
    "w = np.linalg.inv(X.T @ X) @ X.T @ y\n",
    "y_pred = X @ w\n",
    "resid = y - y_pred\n",
    "print(w)\n",
    "\n",
    "print(np.linalg.norm(resid))"
   ]
  },
  {
   "cell_type": "code",
   "execution_count": 195,
   "metadata": {},
   "outputs": [
    {
     "data": {
      "text/plain": [
       "177.31562729542006"
      ]
     },
     "execution_count": 195,
     "metadata": {},
     "output_type": "execute_result"
    }
   ],
   "source": [
    "Q, R = qr_householder(A)\n",
    "new_y = Q.T@y\n",
    "np.abs(new_y[-1])"
   ]
  },
  {
   "cell_type": "code",
   "execution_count": 203,
   "metadata": {},
   "outputs": [
    {
     "data": {
      "text/plain": [
       "121.24974226776737"
      ]
     },
     "execution_count": 203,
     "metadata": {},
     "output_type": "execute_result"
    }
   ],
   "source": [
    "np.linalg.norm(Q.T@X@w - new_y)"
   ]
  },
  {
   "cell_type": "code",
   "execution_count": 202,
   "metadata": {},
   "outputs": [
    {
     "data": {
      "text/plain": [
       "121.24974226776737"
      ]
     },
     "execution_count": 202,
     "metadata": {},
     "output_type": "execute_result"
    }
   ],
   "source": [
    "np.linalg.norm(Q.T@(X@w - y))"
   ]
  },
  {
   "cell_type": "code",
   "execution_count": 207,
   "metadata": {},
   "outputs": [
    {
     "data": {
      "text/plain": [
       "2.7015115293406988e-06"
      ]
     },
     "execution_count": 207,
     "metadata": {},
     "output_type": "execute_result"
    }
   ],
   "source": [
    "5*np.cos(1)*10**(-6)"
   ]
  }
 ],
 "metadata": {
  "kernelspec": {
   "display_name": "base",
   "language": "python",
   "name": "python3"
  },
  "language_info": {
   "codemirror_mode": {
    "name": "ipython",
    "version": 3
   },
   "file_extension": ".py",
   "mimetype": "text/x-python",
   "name": "python",
   "nbconvert_exporter": "python",
   "pygments_lexer": "ipython3",
   "version": "3.9.13"
  }
 },
 "nbformat": 4,
 "nbformat_minor": 2
}
