{
 "cells": [
  {
   "cell_type": "code",
   "execution_count": 11,
   "metadata": {},
   "outputs": [
    {
     "name": "stdout",
     "output_type": "stream",
     "text": [
      "[[ 0.28571429  1.          0.          0.        ]\n",
      " [ 0.71428571 -0.44       -0.46153846  1.        ]\n",
      " [ 1.          0.          0.          0.        ]\n",
      " [ 0.71428571  0.12        1.          0.        ]]\n",
      "[[ 7.          5.          6.          6.        ]\n",
      " [ 0.          3.57142857  6.28571429  5.28571429]\n",
      " [ 0.          0.         -1.04        3.08      ]\n",
      " [ 0.          0.          0.          7.46153846]]\n"
     ]
    }
   ],
   "source": [
    "# LU Decomposition\n",
    "import numpy as np\n",
    "from scipy.linalg import lu\n",
    "A = np.array([[2, 5, 8, 7], [5, 2, 2, 8], [7, 5, 6, 6], [5, 4, 4, 8]])\n",
    "p, l, u = lu(A)\n",
    "PL, U = lu(A, permute_l=True)\n",
    "print(PL)\n",
    "print(U)"
   ]
  },
  {
   "cell_type": "code",
   "execution_count": 32,
   "metadata": {},
   "outputs": [],
   "source": [
    "#coding:utf8\n",
    "import numpy as np\n",
    "\n",
    "# def gram_schmidt(A):\n",
    "#     \"\"\"Gram-schmidt正交化\"\"\"\n",
    "#     Q=np.zeros_like(A)\n",
    "#     cnt = 0\n",
    "#     for a in A.T:\n",
    "#         u = np.copy(a)\n",
    "#         for i in range(0, cnt):\n",
    "#             u -= np.dot(np.dot(Q[:, i].T, a), Q[:, i]) # 减去待求向量在以求向量上的投影\n",
    "#         e = u / np.linalg.norm(u)  # 归一化\n",
    "#         Q[:, cnt] = e\n",
    "#         cnt += 1\n",
    "#     R = np.dot(Q.T, A)\n",
    "#     return (Q, R)\n",
    "\n",
    "# def givens_rotation(A):\n",
    "#     \"\"\"Givens变换\"\"\"\n",
    "#     (r, c) = np.shape(A)\n",
    "#     Q = np.identity(r)\n",
    "#     R = np.copy(A)\n",
    "#     (rows, cols) = np.tril_indices(r, -1, c)\n",
    "#     for (row, col) in zip(rows, cols):\n",
    "#         if R[row, col] != 0:  # R[row, col]=0则c=1,s=0,R、Q不变\n",
    "#             r_ = np.hypot(R[col, col], R[row, col])  # d\n",
    "#             c = R[col, col]/r_\n",
    "#             s = -R[row, col]/r_\n",
    "#             G = np.identity(r)\n",
    "#             G[[col, row], [col, row]] = c\n",
    "#             G[row, col] = s\n",
    "#             G[col, row] = -s\n",
    "#             R = np.dot(G, R)  # R=G(n-1,n)*...*G(2n)*...*G(23,1n)*...*G(12)*A\n",
    "#             Q = np.dot(Q, G.T)  # Q=G(n-1,n).T*...*G(2n).T*...*G(23,1n).T*...*G(12).T\n",
    "#     return (Q, R)\n",
    "\n",
    "def householder_reflection(A):\n",
    "    \"\"\"Householder变换\"\"\"\n",
    "    (r, c) = np.shape(A)\n",
    "    Q = np.identity(r)\n",
    "    R = np.copy(A)\n",
    "    H_list = []\n",
    "    for cnt in range(r - 1):\n",
    "        x = R[cnt:, cnt]\n",
    "        e = np.zeros_like(x)\n",
    "        e[0] = np.linalg.norm(x)\n",
    "        u = x - e\n",
    "        v = u / np.linalg.norm(u)\n",
    "        Q_cnt = np.identity(r)\n",
    "        Q_cnt[cnt:, cnt:] -= 2.0 * np.outer(v, v)\n",
    "        R = np.dot(Q_cnt, R)  # R=H(n-1)*...*H(2)*H(1)*A\n",
    "        Q = np.dot(Q, Q_cnt)  # Q=H(n-1)*...*H(2)*H(1)  H为自逆矩阵\n",
    "        H_list.append(Q_cnt)\n",
    "    return (Q, R, H_list)\n"
   ]
  },
  {
   "cell_type": "code",
   "execution_count": 33,
   "metadata": {},
   "outputs": [
    {
     "name": "stdout",
     "output_type": "stream",
     "text": [
      "[[ 0.5 -0.5  0.5  0.5]\n",
      " [ 0.5  0.5 -0.5  0.5]\n",
      " [ 0.5  0.5  0.5 -0.5]\n",
      " [ 0.5 -0.5 -0.5 -0.5]]\n",
      "[[ 2.  3.  2.]\n",
      " [ 0.  5. -2.]\n",
      " [ 0.  0.  4.]\n",
      " [ 0.  0. -0.]]\n",
      "[array([[ 0.5,  0.5,  0.5,  0.5],\n",
      "       [ 0.5,  0.5, -0.5, -0.5],\n",
      "       [ 0.5, -0.5,  0.5, -0.5],\n",
      "       [ 0.5, -0.5, -0.5,  0.5]]), array([[ 1.,  0.,  0.,  0.],\n",
      "       [ 0.,  0.,  0., -1.],\n",
      "       [ 0.,  0.,  1.,  0.],\n",
      "       [ 0., -1.,  0.,  0.]]), array([[ 1.,  0.,  0.,  0.],\n",
      "       [ 0.,  1.,  0.,  0.],\n",
      "       [ 0.,  0.,  1.,  0.],\n",
      "       [ 0.,  0.,  0., -1.]])]\n",
      "[[ 1. -1.  4.]\n",
      " [ 1.  4. -2.]\n",
      " [ 1.  4.  2.]\n",
      " [ 1. -1.  0.]]\n"
     ]
    }
   ],
   "source": [
    "np.set_printoptions(precision=4, suppress=True)\n",
    "#A = np.array([[1, 2, 3], [4, 5, 6], [7, 8, 7], [4, 2, 1]])\n",
    "A = np.array([[1, -1, 4], [1, 4, -2], [1, 4, 2], [1, -1, 0]])\n",
    "#A = np.array([[6, 5, 0],[5, -1, 4],[5, 1, -14],[0, 4, 3]],dtype=float)\n",
    "\n",
    "# (Q, R) = gram_schmidt(A)\n",
    "# print(Q)\n",
    "# print(R)\n",
    "# print(np.dot(Q,R))\n",
    "\n",
    "# (Q, R) = givens_rotation(A)\n",
    "# print(Q)\n",
    "# print(R)\n",
    "# print(np.dot(Q,R))\n",
    "\n",
    "(Q, R, H) = householder_reflection(A)\n",
    "print(Q)\n",
    "print(R)\n",
    "print(H)\n",
    "print(np.dot(Q,R))"
   ]
  }
 ],
 "metadata": {
  "kernelspec": {
   "display_name": "Python 3",
   "language": "python",
   "name": "python3"
  },
  "language_info": {
   "codemirror_mode": {
    "name": "ipython",
    "version": 3
   },
   "file_extension": ".py",
   "mimetype": "text/x-python",
   "name": "python",
   "nbconvert_exporter": "python",
   "pygments_lexer": "ipython3",
   "version": "3.9.10"
  },
  "orig_nbformat": 4
 },
 "nbformat": 4,
 "nbformat_minor": 2
}
